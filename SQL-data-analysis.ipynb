{
 "cells": [
  {
   "cell_type": "markdown",
   "metadata": {},
   "source": [
    "<h2 style=\"color:green; font-size: 40px;\" align=\"center\">DATA ANALYSIS WITH SQL<h2>\n",
    "<h2 style=\"color:grey\" align=\"center\">Setup up tables <h2>"
   ]
  },
  {
   "cell_type": "markdown",
   "metadata": {},
   "source": [
    "```sql\n",
    "\n",
    "-- Create the \"CUSTOMER\" table in \"raw.source_1\" schema\n",
    "CREATE OR REPLACE TABLE RAW.SOURCE_1.CUSTOMER (\n",
    "    C_CUSTKEY NUMBER,                -- Customer key (numeric)\n",
    "    C_NAME STRING,                   -- Customer name (string)\n",
    "    C_ADDRESS STRING,                -- Customer address (string)\n",
    "    C_NATIONKEY NUMBER,              -- Nation key (numeric)\n",
    "    C_PHONE STRING,                  -- Phone number (string)\n",
    "    C_ACCTBAL NUMBER(18, 2),         -- Account balance (numeric with 2 decimal places)\n",
    "    C_MKTSEGMENT STRING,             -- Market segment (string)\n",
    "    C_COMMENT STRING                 -- Comment (string)\n",
    ");\n",
    "\n",
    "-- Create the ORDERS table\n",
    "CREATE OR REPLACE TABLE raw.source_1.orders (\n",
    "    O_ORDERKEY NUMBER,                -- Order key (numeric)\n",
    "    O_CUSTKEY NUMBER,                 -- Customer key (numeric)\n",
    "    O_ORDERSTATUS STRING,             -- Order status (string)\n",
    "    O_TOTALPRICE NUMBER(18, 2),       -- Total price (numeric with decimal)\n",
    "    O_ORDERDATE DATE,                 -- Order date (date)\n",
    "    O_ORDERPRIORITY STRING,           -- Order priority (string)\n",
    "    O_CLERK STRING,                   -- Clerk (string)\n",
    "    O_SHIPPRIORITY NUMBER,            -- Shipping priority (numeric)\n",
    "    O_COMMENT STRING                  -- Comment (string)\n",
    ");\n",
    "\n",
    "-- Create the NATION table\n",
    "CREATE OR REPLACE TABLE raw.source_1.nation (\n",
    "    N_NATIONKEY NUMBER,               -- Nation key (numeric)\n",
    "    N_NAME STRING,                    -- Nation name (string)\n",
    "    N_REGIONKEY NUMBER,               -- Region key (numeric)\n",
    "    N_COMMENT STRING                  -- Comment (string)\n",
    ");\n",
    "\n",
    "-- You can skip this part if not familiar with AWS S3. Proceed and load the files into the table using the Snowflake Interface\n",
    "-- CSV files are attached\n",
    "\n",
    "-- Insert sample data into the CUSTOMER table\n",
    "COPY INTO RAW.SOURCE_1.customer\n",
    "FROM 's3://to_be_defined/file_name.csv'\n",
    "FILE_FORMAT = csv_format;\n",
    "\n",
    "\n",
    "-- Load data into the ORDERS table\n",
    "COPY INTO raw.source_1.orders\n",
    "FROM 's3://to_be_defined/orders.csv'\n",
    "FILE_FORMAT = csv_format;\n",
    "\n",
    "\n",
    "-- Load data into the NATION table\n",
    "COPY INTO raw.source_1.nation\n",
    "FROM 's3://to_be_defined/nation.csv'\n",
    "FILE_FORMAT = csv_format;\n"
   ]
  },
  {
   "cell_type": "markdown",
   "metadata": {},
   "source": [
    "<h2 style=\"color:grey\" align=\"center\"> Joning tables to start analysis <h2>"
   ]
  },
  {
   "cell_type": "markdown",
   "metadata": {},
   "source": [
    "```sql\n",
    "\n",
    "SELECT O_ORDERKEY, C_NAME, C_MKTSEGMENT, N.N_NAME, O_ORDERSTATUS, O_TOTALPRICE, O_ORDERDATE, O_ORDERPRIORITY  FROM RAW.SOURCE_1.ORDERS O\n",
    "LEFT JOIN RAW.SOURCE_1.CUSTOMER C ON O.O_CUSTKEY = C.C_CUSTKEY \n",
    "LEFT JOIN RAW.SOURCE_1.NATION N ON C.C_NATIONKEY = N.N_NATIONKEY"
   ]
  },
  {
   "cell_type": "markdown",
   "metadata": {},
   "source": [
    "![Imagen not found](https://drive.google.com/uc?export=view&id=1dZsSjczaSk5_cOgpMK19DV1mCrXxNJhE)"
   ]
  },
  {
   "cell_type": "markdown",
   "metadata": {},
   "source": [
    "<h2 style=\"color:grey\" align=\"center\"> Lets start the Analysis <h2>\n",
    "<h3 style=\"color:grey\" align=\"center\"> We are going to answer the folowing questions: <h3>"
   ]
  },
  {
   "cell_type": "markdown",
   "metadata": {},
   "source": [
    "```sql\n",
    "\n",
    "-- WHAT IS THE TOTAL VALUE OF ORDERS BY ORDER STATUS IN EACH COUNTRY?\n",
    "SELECT \n",
    "    N_NAME, \n",
    "    CASE \n",
    "        WHEN O_ORDERSTATUS = 'F' THEN 'FINISHED'\n",
    "        WHEN O_ORDERSTATUS = 'O' THEN 'ORDERED'\n",
    "        WHEN O_ORDERSTATUS = 'P' THEN 'PENDING'\n",
    "        ELSE O_ORDERSTATUS\n",
    "    END AS ORDER_STATUS,\n",
    "    TO_CHAR(SUM(O_TOTALPRICE), '$999,999,999') AS TOTAL_VALUE\n",
    "FROM RAW.SOURCE_1.ORDERS O\n",
    "LEFT JOIN RAW.SOURCE_1.CUSTOMER C ON O.O_CUSTKEY = C.C_CUSTKEY \n",
    "LEFT JOIN RAW.SOURCE_1.NATION N ON C.C_NATIONKEY = N.N_NATIONKEY\n",
    "GROUP BY N_NAME, O_ORDERSTATUS \n",
    "ORDER BY N_NAME ASC;\n"
   ]
  },
  {
   "cell_type": "markdown",
   "metadata": {},
   "source": [
    "![Imagen not found](https://drive.google.com/uc?export=view&id=12al3FgtQLklSHPWwpdaw0C4t9yLLXt0j)\n"
   ]
  },
  {
   "cell_type": "markdown",
   "metadata": {},
   "source": [
    "\n",
    "```sql\n",
    "\n",
    "-- WHAT IS THE AVERAGE PRICE OF ORDERS FOR EACH MARKET SEGMENT BY COUNTRY?\n",
    "SELECT C_MKTSEGMENT, N_NAME, TO_CHAR(AVG(O_TOTALPRICE), '$999,999,999') AS AVERAGE_PRICE\n",
    "FROM RAW.SOURCE_1.ORDERS O\n",
    "LEFT JOIN RAW.SOURCE_1.CUSTOMER C ON O.O_CUSTKEY = C.C_CUSTKEY\n",
    "LEFT JOIN RAW.SOURCE_1.NATION N ON C.C_NATIONKEY = N.N_NATIONKEY\n",
    "GROUP BY C_MKTSEGMENT,N_NAME \n",
    "ORDER BY C_MKTSEGMENT ASC, AVERAGE_PRICE DESC ;\n",
    "\n"
   ]
  },
  {
   "cell_type": "markdown",
   "metadata": {},
   "source": [
    "![Imagen not found](https://drive.google.com/uc?export=view&id=1qvIKubBFpSr4MyAoxwTtOMP_uOb7p6kp)\n"
   ]
  },
  {
   "cell_type": "markdown",
   "metadata": {},
   "source": [
    "```sql\n",
    "-- HOW IS THE NUMBER OF ORDERS DISTRIBUTED BY YEAR AND COUNTRY?\n",
    "SELECT N_NAME, EXTRACT(YEAR FROM O_ORDERDATE) AS ORDER_YEAR, COUNT(*) AS NUMBER_OF_ORDERS\n",
    "FROM RAW.SOURCE_1.ORDERS O\n",
    "LEFT JOIN RAW.SOURCE_1.CUSTOMER C ON O.O_CUSTKEY = C.C_CUSTKEY \n",
    "LEFT JOIN RAW.SOURCE_1.NATION N ON C.C_NATIONKEY = N.N_NATIONKEY\n",
    "GROUP BY N_NAME, EXTRACT(YEAR FROM O_ORDERDATE) \n",
    "ORDER BY N_NAME ASC, ORDER_YEAR DESC;\n",
    "\n",
    "\n"
   ]
  },
  {
   "cell_type": "markdown",
   "metadata": {},
   "source": [
    "![Imagen not found](https://drive.google.com/uc?export=view&id=1ppn9hi-kM9uVUkrboQ0w-itGccK8XdGX)\n"
   ]
  },
  {
   "cell_type": "markdown",
   "metadata": {},
   "source": [
    "```sql\n",
    "-- WHAT IS THE MOST EXPENSIVE AND THE CHEAPEST ORDER IN EACH COUNTRY?\n",
    "WITH PRICEEXTREMES AS (\n",
    "    SELECT N_NAME, \n",
    "           TO_CHAR(MAX(O_TOTALPRICE), '$999,999,999') AS MAX_PRICE,  \n",
    "            TO_CHAR(MIN(O_TOTALPRICE),'$999,999,999') AS MIN_PRICE\n",
    "    FROM RAW.SOURCE_1.ORDERS O\n",
    "    LEFT JOIN RAW.SOURCE_1.CUSTOMER C ON O.O_CUSTKEY = C.C_CUSTKEY \n",
    "    LEFT JOIN RAW.SOURCE_1.NATION N ON C.C_NATIONKEY = N.N_NATIONKEY\n",
    "    GROUP BY N_NAME\n",
    ")\n",
    "SELECT N_NAME, MAX_PRICE, MIN_PRICE\n",
    "FROM PRICEEXTREMES\n",
    "ORDER BY N_NAME ASC;\n",
    "\n"
   ]
  },
  {
   "cell_type": "markdown",
   "metadata": {},
   "source": [
    "![Imagen not found](https://drive.google.com/uc?export=view&id=18bDO0TC5Z0mst-d6UBA03A3YaZ8T3pKo)\n"
   ]
  },
  {
   "cell_type": "markdown",
   "metadata": {},
   "source": [
    "```sql\n",
    "-- RANKING OF CUSTOMERS BY TOTAL SPENDING IN EACH COUNTRY.\n",
    "WITH CUSTOMERSPENDING AS (\n",
    "    SELECT N_NAME, C_NAME, TO_CHAR(SUM(O_TOTALPRICE),'$999,999,999') AS TOTAL_SPENT\n",
    "    FROM RAW.SOURCE_1.ORDERS O\n",
    "    LEFT JOIN RAW.SOURCE_1.CUSTOMER C ON O.O_CUSTKEY = C.C_CUSTKEY \n",
    "    LEFT JOIN RAW.SOURCE_1.NATION N ON C.C_NATIONKEY = N.N_NATIONKEY\n",
    "    GROUP BY N_NAME, C_NAME\n",
    ")\n",
    "SELECT N_NAME, C_NAME, TOTAL_SPENT,\n",
    "       RANK() OVER (PARTITION BY N_NAME ORDER BY TOTAL_SPENT DESC) AS SPENDING_RANK\n",
    "FROM CUSTOMERSPENDING;\n",
    "\n",
    "\n"
   ]
  },
  {
   "cell_type": "markdown",
   "metadata": {},
   "source": [
    "![Imagen not found](https://drive.google.com/uc?export=154z5QpqpVQjT3k2cQI4P35qIgWT-Zhfn)\n",
    "\n"
   ]
  },
  {
   "cell_type": "markdown",
   "metadata": {},
   "source": [
    "```sql\n",
    "-- USE OF LAG TO COMPARE THE CURRENT ORDER PRICE WITH THE PREVIOUS ORDER PRICE OF EACH CUSTOMER:\n",
    "WITH ORDERDETAILS AS( \n",
    "    SELECT \n",
    "    C_NAME, \n",
    "    O_ORDERDATE, \n",
    "    TO_CHAR(O_TOTALPRICE,'$999,999,999') AS CURRENT_ORDER,\n",
    "    TO_CHAR(LAG(O_TOTALPRICE) OVER (PARTITION BY C_NAME ORDER BY O_ORDERDATE DESC),'$999,999,999') AS PREVIOUS_ORDER\n",
    "FROM RAW.SOURCE_1.ORDERS O\n",
    "LEFT JOIN RAW.SOURCE_1.CUSTOMER C ON O.O_CUSTKEY = C.C_CUSTKEY)\n",
    "SELECT * FROM ORDERDETAILS\n",
    "WHERE PREVIOUS_ORDER IS NOT NULL\n",
    "ORDER BY O_ORDERDATE DESC;\n",
    "\n"
   ]
  },
  {
   "cell_type": "markdown",
   "metadata": {},
   "source": [
    "![Imagen not found](https://drive.google.com/uc?export=view&id=1eN2ack2FovQZmjsnEXqwpWTdReV1mteg)\n",
    "\n"
   ]
  },
  {
   "cell_type": "markdown",
   "metadata": {},
   "source": [
    "```sql\n",
    "-- USE OF TOP 3 ORDERS BY TOTAL VALUE IN EACH COUNTRY AND YEAR:\n",
    "SELECT \n",
    "    N_NAME, \n",
    "    EXTRACT(YEAR FROM O_ORDERDATE) AS YEAR,\n",
    "    TO_CHAR(O_TOTALPRICE,'$999,999,999'),\n",
    "    ROW_NUMBER() OVER (PARTITION BY N_NAME, EXTRACT(YEAR FROM O_ORDERDATE) ORDER BY O_TOTALPRICE DESC) AS RANK\n",
    "FROM RAW.SOURCE_1.ORDERS O\n",
    "LEFT JOIN RAW.SOURCE_1.CUSTOMER C ON O.O_CUSTKEY = C.C_CUSTKEY \n",
    "LEFT JOIN RAW.SOURCE_1.NATION N ON C.C_NATIONKEY = N.N_NATIONKEY\n",
    "QUALIFY RANK IN (1,2,3);\n"
   ]
  },
  {
   "cell_type": "markdown",
   "metadata": {},
   "source": [
    "![Imagen not found](https://drive.google.com/uc?export=view&id=1wUJi8o1iJnCqaV7B3OTDMBsVGLXisQFI)\n",
    "\n"
   ]
  }
 ],
 "metadata": {
  "kernelspec": {
   "display_name": "base",
   "language": "python",
   "name": "python3"
  },
  "language_info": {
   "codemirror_mode": {
    "name": "ipython",
    "version": 3
   },
   "file_extension": ".py",
   "mimetype": "text/x-python",
   "name": "python",
   "nbconvert_exporter": "python",
   "pygments_lexer": "ipython3",
   "version": "3.10.13"
  }
 },
 "nbformat": 4,
 "nbformat_minor": 2
}
